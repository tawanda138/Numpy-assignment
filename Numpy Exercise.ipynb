{
 "cells": [
  {
   "cell_type": "markdown",
   "id": "20cdeb2e",
   "metadata": {},
   "source": [
    "# Title: NumPy Assignment\n",
    "In this assignment, you'll practice using NumPy to solve a problem. You have been given a dataset that represents the height (in centimeters) of 10 students in a class.\n",
    "\n",
    "Dataset:\n",
    "\n",
    "heights = np.array([160, 155, 172, 165, 180, 158, 175, 163, 171, 168])\n",
    "Your task is to:\n",
    "\n",
    "Calculate the mean, median, and standard deviation of the students' heights.\n",
    "\n",
    "Create a new array with the heights normalized, i.e., each height value should be transformed to have a mean of 0 and a standard deviation of 1.\n",
    "\n",
    "Determine the tallest and shortest students in the class using NumPy's argmax and argmin functions.\n",
    "\n",
    "Calculate the difference between the tallest and shortest students' heights.\n",
    "\n",
    "Randomly select 5 heights from the dataset without replacement.\n",
    "\n",
    "Complete the assignment by writing Python code using NumPy. Remember to first import NumPy and use its functions to perform the required calculations. Good luck!\n",
    "\n",
    "Note: The purpose of this assignment is to test your understanding of NumPy concepts covered in this curriculum. Try to complete the assignment without referring back to the curriculum, but if you get stuck, feel free to review the topics and examples provided."
   ]
  },
  {
   "cell_type": "code",
   "execution_count": 1,
   "id": "6e7dfbac",
   "metadata": {
    "scrolled": true
   },
   "outputs": [
    {
     "name": "stdout",
     "output_type": "stream",
     "text": [
      "Mean 166.7\n"
     ]
    }
   ],
   "source": [
    "import numpy as np\n",
    "\n",
    "heights = np.array([160, 155, 172, 165, 180, 158, 175, 163, 171, 168])\n",
    "mean = np.mean(heights)\n",
    "print(\"Mean\", mean)"
   ]
  },
  {
   "cell_type": "markdown",
   "id": "99335e93",
   "metadata": {},
   "source": [
    "# median"
   ]
  },
  {
   "cell_type": "code",
   "execution_count": 2,
   "id": "a862e895",
   "metadata": {},
   "outputs": [
    {
     "name": "stdout",
     "output_type": "stream",
     "text": [
      "median 166.5\n"
     ]
    }
   ],
   "source": [
    "import numpy as np\n",
    "heights = np.array([160, 155, 172, 165, 180, 158, 175, 163, 171, 168])\n",
    "median = np.median(heights)\n",
    "print(\"median\", median)\n"
   ]
  },
  {
   "cell_type": "code",
   "execution_count": 5,
   "id": "d8c70b04",
   "metadata": {},
   "outputs": [
    {
     "name": "stdout",
     "output_type": "stream",
     "text": [
      "standard deviation 7.5372408744845085\n"
     ]
    }
   ],
   "source": [
    "\n",
    "std_dev = np.std(heights)\n",
    "print(\"standard deviation\",std_dev)"
   ]
  },
  {
   "cell_type": "code",
   "execution_count": 5,
   "id": "49dc2c0e",
   "metadata": {},
   "outputs": [
    {
     "name": "stdout",
     "output_type": "stream",
     "text": [
      "Argmax: 4\n"
     ]
    }
   ],
   "source": [
    "import numpy as np\n",
    "heights = np.array([160, 155, 172, 165, 180, 158, 175, 163, 171, 168])\n",
    "array_argmax = np.argmax(heights)\n",
    "print(\"Argmax:\", array_argmax)"
   ]
  },
  {
   "cell_type": "code",
   "execution_count": 6,
   "id": "b3f2d950",
   "metadata": {},
   "outputs": [
    {
     "name": "stdout",
     "output_type": "stream",
     "text": [
      "Argmin: 1\n"
     ]
    }
   ],
   "source": [
    "array_argmin = np.argmin(heights)\n",
    "print(\"Argmin:\", array_argmin)"
   ]
  },
  {
   "cell_type": "code",
   "execution_count": 7,
   "id": "e78ec353",
   "metadata": {},
   "outputs": [
    {
     "name": "stdout",
     "output_type": "stream",
     "text": [
      "sample without replacement: [175 165 160 163 168]\n"
     ]
    }
   ],
   "source": [
    "sample_no_replacement = np.random.choice(heights,5, replace=False)\n",
    "print(\"sample without replacement:\", sample_no_replacement)"
   ]
  },
  {
   "cell_type": "code",
   "execution_count": 8,
   "id": "de81c40a",
   "metadata": {},
   "outputs": [
    {
     "name": "stdout",
     "output_type": "stream",
     "text": [
      "Normal random array: [-0.16551103 -1.84127869  1.76127468  0.84328175 -0.68387666 -0.33582331\n",
      "  0.54068605  0.38631062  0.06520805  2.47390848]\n"
     ]
    }
   ],
   "source": [
    "normal_array = np.random.randn(10)\n",
    "print(\"Normal random array:\", normal_array)"
   ]
  },
  {
   "cell_type": "code",
   "execution_count": null,
   "id": "45f07909",
   "metadata": {},
   "outputs": [],
   "source": []
  }
 ],
 "metadata": {
  "kernelspec": {
   "display_name": "Python 3 (ipykernel)",
   "language": "python",
   "name": "python3"
  },
  "language_info": {
   "codemirror_mode": {
    "name": "ipython",
    "version": 3
   },
   "file_extension": ".py",
   "mimetype": "text/x-python",
   "name": "python",
   "nbconvert_exporter": "python",
   "pygments_lexer": "ipython3",
   "version": "3.10.9"
  }
 },
 "nbformat": 4,
 "nbformat_minor": 5
}
